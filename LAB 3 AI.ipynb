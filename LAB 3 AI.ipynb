{
 "cells": [
  {
   "cell_type": "code",
   "execution_count": 7,
   "id": "285a9898-232e-4e09-8e54-20519b9e3dec",
   "metadata": {},
   "outputs": [
    {
     "name": "stdout",
     "output_type": "stream",
     "text": [
      "Confusion Matrix:\n",
      "[[0 1]\n",
      " [0 1]]\n",
      "\n",
      "Accuracy: 0.5\n",
      "\n",
      "Prediction: The players can play when the weather is overcast and the temperature is mild.\n"
     ]
    }
   ],
   "source": [
    "from sklearn.model_selection import train_test_split\n",
    "from sklearn.neighbors import KNeighborsClassifier\n",
    "from sklearn.metrics import confusion_matrix, accuracy_score\n",
    "import pandas as pd\n",
    "\n",
    "data = {\n",
    "    'Weather': ['Sunny', 'Overcast', 'Rainy', 'Sunny', 'Rainy', 'Overcast', 'Sunny', 'Overcast', 'Rainy', 'Sunny'],\n",
    "    'Temperature': ['Hot', 'Mild', 'Cool', 'Cool', 'Mild', 'Cool', 'Mild', 'Hot', 'Mild', 'Cool'],\n",
    "    'Play': ['No', 'Yes', 'Yes', 'No', 'Yes', 'Yes', 'No', 'Yes', 'No', 'Yes']\n",
    "}\n",
    "\n",
    "df = pd.DataFrame(data)\n",
    "\n",
    "df['Weather'] = df['Weather'].map({'Sunny': 0, 'Overcast': 1, 'Rainy': 2})\n",
    "df['Temperature'] = df['Temperature'].map({'Hot': 0, 'Mild': 1, 'Cool': 2})\n",
    "df['Play'] = df['Play'].map({'No': 0, 'Yes': 1})\n",
    "\n",
    "X = df[['Weather', 'Temperature']]\n",
    "y = df['Play']\n",
    "\n",
    "X_train, X_test, y_train, y_test = train_test_split(X, y, test_size=0.2, random_state=42)\n",
    "\n",
    "knn = KNeighborsClassifier(n_neighbors=3)\n",
    "\n",
    "knn.fit(X_train, y_train)\n",
    "\n",
    "y_pred = knn.predict(X_test)\n",
    "\n",
    "conf_matrix = confusion_matrix(y_test, y_pred)\n",
    "accuracy = accuracy_score(y_test, y_pred)\n",
    "\n",
    "print(\"Confusion Matrix:\")\n",
    "print(conf_matrix)\n",
    "print(\"\\nAccuracy:\", accuracy)\n",
    "\n",
    "sample = pd.DataFrame([[1, 1]], columns=['Weather', 'Temperature']) \n",
    "prediction = knn.predict(sample)\n",
    "\n",
    "if prediction[0] == 1:\n",
    "    print(\"\\nPrediction: The players can play when the weather is overcast and the temperature is mild.\")\n",
    "else:\n",
    "    print(\"\\nPrediction: The players cannot play when the weather is overcast and the temperature is mild.\")\n"
   ]
  },
  {
   "cell_type": "code",
   "execution_count": null,
   "id": "1ff5fb1f-fbe3-43e7-bd1e-7b4b26a772da",
   "metadata": {},
   "outputs": [],
   "source": []
  },
  {
   "cell_type": "code",
   "execution_count": 9,
   "id": "fc39782e-ac47-4e09-b253-d9e449d4812b",
   "metadata": {},
   "outputs": [
    {
     "name": "stdout",
     "output_type": "stream",
     "text": [
      "Prediction: Good\n"
     ]
    }
   ],
   "source": [
    "import numpy as np\n",
    "\n",
    "train_points = np.array([[7, 7], [7, 4], [3, 4], [1, 4]])\n",
    "train_labels = ['Bad', 'Bad', 'Good', 'Good']\n",
    "\n",
    "query_point = np.array([3, 7])\n",
    "\n",
    "distances = np.linalg.norm(train_points - query_point, axis=1)\n",
    "nearest_indices = distances.argsort()[:3]\n",
    "nearest_labels = [train_labels[i] for i in nearest_indices]\n",
    "\n",
    "prediction = max(set(nearest_labels), key=nearest_labels.count)\n",
    "print(\"Prediction:\", prediction)\n"
   ]
  },
  {
   "cell_type": "code",
   "execution_count": 13,
   "id": "914de1ea-9936-4b46-b112-f9e254ee8821",
   "metadata": {},
   "outputs": [
    {
     "name": "stdout",
     "output_type": "stream",
     "text": [
      "Predicted Labels: [2 0 2 2]\n",
      "Confusion Matrix:\n",
      "[[0 0 0]\n",
      " [1 0 1]\n",
      " [0 0 2]]\n",
      "Accuracy: 0.5\n"
     ]
    }
   ],
   "source": [
    "import pandas as pd\n",
    "import numpy as np\n",
    "from sklearn.model_selection import train_test_split\n",
    "from sklearn.preprocessing import LabelEncoder, StandardScaler\n",
    "from sklearn.neighbors import KNeighborsClassifier\n",
    "from sklearn.metrics import confusion_matrix, accuracy_score\n",
    "\n",
    "data = {\n",
    "    'Name of Exercise': [\n",
    "        'Push-ups', 'Squats', 'Lunges', 'Burpees', 'Mountain Climbers',\n",
    "        'Jumping Jacks', 'Bicycle Crunches', 'Ops', 'Pull-ups',\n",
    "        'Russian Twists', 'Leg Raises', 'Deadlifts', 'Bench Press',\n",
    "        'Bicep Curls', 'Shoulder Press', 'Calf Raises', 'Tricep Extension'\n",
    "    ],\n",
    "    'Sets': [3, 4, 3, 3, 3, 4, 3, 4, 4, 3, 3, 4, 3, 3, 3, 3, 3],\n",
    "    'Reps': [15, 12, 12, 10, 10, 15, 12, 10, 10, 12, 12, 10, 8, 15, 12, 15, 12],\n",
    "    'Burns Calories (per 30 min)': [\n",
    "        220, 250, 235, 280, 290, 220, 230, 220, 250, 210, 220, 240, 230, 215, 225, 210, 200\n",
    "    ],\n",
    "    'Target Muscle Group': [\n",
    "        'Chest', 'Triceps', 'Shoulders', 'Quadriceps', 'Hamstrings', 'Glutes',\n",
    "        'Hamstrings', 'Glutes', 'Full Body', 'Core', 'Triceps', 'Chest', 'Back', 'Biceps',\n",
    "        'Deltoids', 'Lower Abs', 'Back'\n",
    "    ],\n",
    "    'Difficulty Level': [\n",
    "        'Intermediate', 'Beginner', 'Beginner', 'Advanced', 'Intermediate',\n",
    "        'Beginner', 'Intermediate', 'Advanced', 'Intermediate', 'Intermediate',\n",
    "        'Advanced', 'Intermediate', 'Intermediate', 'Intermediate', 'Beginner',\n",
    "        'Intermediate', 'Beginner'\n",
    "    ]\n",
    "}\n",
    "\n",
    "\n",
    "df = pd.DataFrame(data)\n",
    "\n",
    "le = LabelEncoder()\n",
    "df['Target Muscle Group'] = le.fit_transform(df['Target Muscle Group'])\n",
    "df['Difficulty Level'] = le.fit_transform(df['Difficulty Level'])\n",
    "\n",
    "X = df[['Sets', 'Reps', 'Burns Calories (per 30 min)', 'Target Muscle Group']]\n",
    "y = df['Difficulty Level']\n",
    "\n",
    "X_train, X_test, y_train, y_test = train_test_split(X, y, test_size=0.2, random_state=42)\n",
    "\n",
    "scaler = StandardScaler()\n",
    "X_train = scaler.fit_transform(X_train)\n",
    "X_test = scaler.transform(X_test)\n",
    "\n",
    "k = 3\n",
    "model = KNeighborsClassifier(n_neighbors=k)\n",
    "\n",
    "model.fit(X_train, y_train)\n",
    "\n",
    "predicted = model.predict(X_test)\n",
    "print(\"Predicted Labels:\", predicted)\n",
    "\n",
    "conf_mat = confusion_matrix(y_test, predicted)\n",
    "print(\"Confusion Matrix:\")\n",
    "print(conf_mat)\n",
    "\n",
    "accuracy = accuracy_score(y_test, predicted)\n",
    "print(\"Accuracy:\", accuracy)\n"
   ]
  },
  {
   "cell_type": "code",
   "execution_count": null,
   "id": "01690aef-844e-48a9-89ff-91a3d29f4567",
   "metadata": {},
   "outputs": [],
   "source": []
  }
 ],
 "metadata": {
  "kernelspec": {
   "display_name": "Python 3 (ipykernel)",
   "language": "python",
   "name": "python3"
  },
  "language_info": {
   "codemirror_mode": {
    "name": "ipython",
    "version": 3
   },
   "file_extension": ".py",
   "mimetype": "text/x-python",
   "name": "python",
   "nbconvert_exporter": "python",
   "pygments_lexer": "ipython3",
   "version": "3.12.7"
  }
 },
 "nbformat": 4,
 "nbformat_minor": 5
}
